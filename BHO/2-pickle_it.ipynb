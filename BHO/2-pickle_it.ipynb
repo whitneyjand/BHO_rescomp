{
 "cells": [
  {
   "cell_type": "code",
   "execution_count": 4,
   "metadata": {},
   "outputs": [],
   "source": [
    "import pickle"
   ]
  },
  {
   "cell_type": "code",
   "execution_count": 8,
   "metadata": {},
   "outputs": [],
   "source": [
    "with open(folder_path+'/my_pickles.pkl', 'wb') as file:\n",
    "    pickle.dump(my_pickles, file)"
   ]
  },
  {
   "cell_type": "code",
   "execution_count": 9,
   "metadata": {},
   "outputs": [],
   "source": [
    "### UPDATE PATH HERE\n",
    "folder_path = '/home/whitjand/Research/BHO/test'\n",
    "\n",
    "### DUMP INFO HERE\n"
   ]
  }
 ],
 "metadata": {
  "kernelspec": {
   "display_name": "rescomp",
   "language": "python",
   "name": "python3"
  },
  "language_info": {
   "codemirror_mode": {
    "name": "ipython",
    "version": 3
   },
   "file_extension": ".py",
   "mimetype": "text/x-python",
   "name": "python",
   "nbconvert_exporter": "python",
   "pygments_lexer": "ipython3",
   "version": "3.10.12"
  }
 },
 "nbformat": 4,
 "nbformat_minor": 2
}
