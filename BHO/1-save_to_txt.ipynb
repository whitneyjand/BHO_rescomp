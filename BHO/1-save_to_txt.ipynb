{
 "cells": [
  {
   "cell_type": "code",
   "execution_count": 25,
   "metadata": {},
   "outputs": [],
   "source": [
    "import os\n",
    "import re"
   ]
  },
  {
   "cell_type": "markdown",
   "metadata": {},
   "source": [
    "### helpers"
   ]
  },
  {
   "cell_type": "code",
   "execution_count": 26,
   "metadata": {},
   "outputs": [],
   "source": [
    "def get_text(file_path):\n",
    "    # Read the last 7 lines from the file\n",
    "    with open(file_path, 'r') as file:\n",
    "        lines = file.readlines()\n",
    "        last_7_lines = lines[-7:-2]\n",
    "\n",
    "    # Combine the last 7 lines into a single string\n",
    "    input_text = ''.join(last_7_lines)\n",
    "\n",
    "    return input_text"
   ]
  },
  {
   "cell_type": "code",
   "execution_count": 27,
   "metadata": {},
   "outputs": [],
   "source": [
    "def reformat(text, pickle=False):\n",
    "    # Define regex patterns for extraction\n",
    "    rho_pattern = re.compile(r\"rho:\\s*([\\d.]+)\")\n",
    "    pthin_pattern = re.compile(r\"pthin:\\s*([\\d.]+)\")\n",
    "    vpt_pattern = re.compile(r\"Best VPT:\\s*([\\d.]+)\")\n",
    "    result_pattern = re.compile(r\"Best result:\\s*{'a': ([\\d.e+-]+),\\s*'g': ([\\d.]+),\\s*'s': ([\\d.]+)}\")\n",
    "\n",
    "    # Extract values using regex\n",
    "    rho = float(rho_pattern.search(text).group(1))\n",
    "    pthin = float(pthin_pattern.search(text).group(1))\n",
    "    vpt = float(vpt_pattern.search(text).group(1))\n",
    "    a, g, s = map(float, result_pattern.search(text).groups())\n",
    "\n",
    "    dict_name = f\"rho_{str(rho).replace('.','p')}_pthin_{str(pthin).replace('.','p')}\"\n",
    "    # Create the dictionary\n",
    "    my_dict = {\n",
    "        'rho': rho,\n",
    "        'pthin': pthin,\n",
    "        'VPT': vpt,\n",
    "        'a': a,\n",
    "        'g': g,\n",
    "        's': s\n",
    "    }\n",
    "\n",
    "    # Print the dictionary\n",
    "    output_text = f'{dict_name} = {my_dict}'\n",
    "    if pickle:\n",
    "        output_text += f\"\\nmy_pickles['{dict_name}'] = {dict_name}\"\n",
    "    else:\n",
    "        output_text += f'\\nmy_dict = {dict_name}'\n",
    "\n",
    "    return output_text"
   ]
  },
  {
   "cell_type": "markdown",
   "metadata": {},
   "source": [
    "### save it"
   ]
  },
  {
   "cell_type": "code",
   "execution_count": 34,
   "metadata": {},
   "outputs": [
    {
     "name": "stdout",
     "output_type": "stream",
     "text": [
      "['/home/whitjand/Research/BHO/n=1500/wa_bho__rho_50_pthin_0.99.txt', '/home/whitjand/Research/BHO/n=1500/wa_bho__rho_10_pthin_0.92.txt', '/home/whitjand/Research/BHO/n=1500/wa_bho__rho_25_pthin_0.20.txt', '/home/whitjand/Research/BHO/n=1500/wa_bho__rho_1.1_pthin_0.92.txt', '/home/whitjand/Research/BHO/n=1500/wa_bho__rho_50_pthin_0.90.txt', '/home/whitjand/Research/BHO/n=1500/wa_bho__rho_5_pthin_0.92.txt', '/home/whitjand/Research/BHO/n=1500/wa_bho__rho_1_pthin_0.90.txt', '/home/whitjand/Research/BHO/n=1500/wa_bho__rho_25_pthin_0.60.txt', '/home/whitjand/Research/BHO/n=1500/wa_bho__rho_1_pthin_0.99.txt', '/home/whitjand/Research/BHO/n=1500/wa_bho__rho_2_pthin_0.92.txt', '/home/whitjand/Research/BHO/n=1500/wa_bho__rho_0.1_pthin_0.92.txt', '/home/whitjand/Research/BHO/n=1500/wa_bho__rho_0.9_pthin_0.80.txt', '/home/whitjand/Research/BHO/n=1500/wa_bho__rho_25_pthin_1.00.txt', '/home/whitjand/Research/BHO/n=1500/wa_bho__rho_50_pthin_0.10.txt', '/home/whitjand/Research/BHO/n=1500/wa_bho__rho_10_pthin_0.60.txt', '/home/whitjand/Research/BHO/n=1500/wa_bho__rho_0.9_pthin_0.40.txt', '/home/whitjand/Research/BHO/n=1500/wa_bho__rho_1.1_pthin_1.00.txt', '/home/whitjand/Research/BHO/n=1500/wa_bho__rho_5_pthin_1.00.txt', '/home/whitjand/Research/BHO/n=1500/wa_bho__rho_0.9_pthin_0.96.txt', '/home/whitjand/Research/BHO/n=1500/wa_bho__rho_5_pthin_0.60.txt', '/home/whitjand/Research/BHO/n=1500/wa_bho__rho_0.9_pthin_0.98.txt', '/home/whitjand/Research/BHO/n=1500/wa_bho__rho_2_pthin_0.20.txt', '/home/whitjand/Research/BHO/n=1500/wa_bho__rho_10_pthin_1.00.txt', '/home/whitjand/Research/BHO/n=1500/wa_bho__rho_1.1_pthin_0.60.txt', '/home/whitjand/Research/BHO/n=1500/wa_bho__rho_1_pthin_0.50.txt', '/home/whitjand/Research/BHO/n=1500/wa_bho__rho_0.1_pthin_0.20.txt', '/home/whitjand/Research/BHO/n=1500/wa_bho__rho_2_pthin_1.00.txt', '/home/whitjand/Research/BHO/n=1500/wa_bho__rho_25_pthin_0.92.txt', '/home/whitjand/Research/BHO/n=1500/wa_bho__rho_50_pthin_0.50.txt', '/home/whitjand/Research/BHO/n=1500/wa_bho__rho_10_pthin_0.20.txt', '/home/whitjand/Research/BHO/n=1500/wa_bho__rho_0.1_pthin_1.00.txt', '/home/whitjand/Research/BHO/n=1500/wa_bho__rho_2_pthin_0.995.txt', '/home/whitjand/Research/BHO/n=1500/wa_bho__rho_1.1_pthin_0.20.txt', '/home/whitjand/Research/BHO/n=1500/wa_bho__rho_1_pthin_0.10.txt', '/home/whitjand/Research/BHO/n=1500/wa_bho__rho_0.1_pthin_0.60.txt', '/home/whitjand/Research/BHO/n=1500/wa_bho__rho_5_pthin_0.20.txt', '/home/whitjand/Research/BHO/n=1500/wa_bho__rho_2_pthin_0.60.txt', '/home/whitjand/Research/BHO/n=1500/wa_bho__rho_10_pthin_0.70.txt', '/home/whitjand/Research/BHO/n=1500/wa_bho__rho_0.9_pthin_0.50.txt', '/home/whitjand/Research/BHO/n=1500/wa_bho__rho_2_pthin_0.94.txt', '/home/whitjand/Research/BHO/n=1500/wa_bho__rho_1_pthin_0.98.txt', '/home/whitjand/Research/BHO/n=1500/wa_bho__rho_0.1_pthin_0.94.txt', '/home/whitjand/Research/BHO/n=1500/wa_bho__rho_5_pthin_0.70.txt', '/home/whitjand/Research/BHO/n=1500/wa_bho__rho_1_pthin_0.96.txt', '/home/whitjand/Research/BHO/n=1500/wa_bho__rho_2_pthin_0.30.txt', '/home/whitjand/Research/BHO/n=1500/wa_bho__rho_0.1_pthin_0.30.txt', '/home/whitjand/Research/BHO/n=1500/wa_bho__rho_1.1_pthin_0.70.txt', '/home/whitjand/Research/BHO/n=1500/wa_bho__rho_1_pthin_0.40.txt', '/home/whitjand/Research/BHO/n=1500/wa_bho__rho_1_pthin_0.995.txt', '/home/whitjand/Research/BHO/n=1500/wa_bho__rho_25_pthin_0.0.txt', '/home/whitjand/Research/BHO/n=1500/wa_bho__rho_0.9_pthin_0.995.txt', '/home/whitjand/Research/BHO/n=1500/wa_bho__rho_50_pthin_0.0.txt', '/home/whitjand/Research/BHO/n=1500/wa_bho__rho_1.1_pthin_0.94.txt', '/home/whitjand/Research/BHO/n=1500/wa_bho__rho_50_pthin_0.96.txt', '/home/whitjand/Research/BHO/n=1500/wa_bho__rho_10_pthin_0.30.txt', '/home/whitjand/Research/BHO/n=1500/wa_bho__rho_5_pthin_0.94.txt', '/home/whitjand/Research/BHO/n=1500/wa_bho__rho_50_pthin_0.40.txt', '/home/whitjand/Research/BHO/n=1500/wa_bho__rho_0.9_pthin_0.10.txt', '/home/whitjand/Research/BHO/n=1500/wa_bho__rho_0.1_pthin_0.70.txt', '/home/whitjand/Research/BHO/n=1500/wa_bho__rho_1.1_pthin_0.30.txt', '/home/whitjand/Research/BHO/n=1500/wa_bho__rho_10_pthin_0.94.txt', '/home/whitjand/Research/BHO/n=1500/wa_bho__rho_5_pthin_0.30.txt', '/home/whitjand/Research/BHO/n=1500/wa_bho__rho_50_pthin_0.98.txt', '/home/whitjand/Research/BHO/n=1500/wa_bho__rho_2_pthin_0.70.txt', '/home/whitjand/Research/BHO/n=1500/wa_bho__rho_25_pthin_0.30.txt', '/home/whitjand/Research/BHO/n=1500/wa_bho__rho_50_pthin_0.80.txt', '/home/whitjand/Research/BHO/n=1500/wa_bho__rho_25_pthin_0.94.txt', '/home/whitjand/Research/BHO/n=1500/wa_bho__rho_1_pthin_0.80.txt', '/home/whitjand/Research/BHO/n=1500/wa_bho__rho_25_pthin_0.70.txt', '/home/whitjand/Research/BHO/n=1500/wa_bho__rho_1_pthin_0.0.txt', '/home/whitjand/Research/BHO/n=1500/wa_bho__rho_0.9_pthin_0.99.txt', '/home/whitjand/Research/BHO/n=1500/wa_bho__rho_25_pthin_0.995.txt', '/home/whitjand/Research/BHO/n=1500/wa_bho__rho_0.9_pthin_0.90.txt', '/home/whitjand/Research/BHO/n=1500/wa_bho__rho_1_pthin_1.00.txt', '/home/whitjand/Research/BHO/n=1500/wa_bho__rho_0.9_pthin_0.70.txt', '/home/whitjand/Research/BHO/n=1500/wa_bho__rho_50_pthin_0.20.txt', '/home/whitjand/Research/BHO/n=1500/wa_bho__rho_10_pthin_0.50.txt', '/home/whitjand/Research/BHO/n=1500/wa_bho__rho_25_pthin_0.99.txt', '/home/whitjand/Research/BHO/n=1500/wa_bho__rho_2_pthin_0.10.txt', '/home/whitjand/Research/BHO/n=1500/wa_bho__rho_5_pthin_0.50.txt', '/home/whitjand/Research/BHO/n=1500/wa_bho__rho_25_pthin_0.90.txt', '/home/whitjand/Research/BHO/n=1500/wa_bho__rho_50_pthin_0.995.txt', '/home/whitjand/Research/BHO/n=1500/wa_bho__rho_1.1_pthin_0.50.txt', '/home/whitjand/Research/BHO/n=1500/wa_bho__rho_1_pthin_0.60.txt', '/home/whitjand/Research/BHO/n=1500/wa_bho__rho_0.1_pthin_0.10.txt', '/home/whitjand/Research/BHO/n=1500/wa_bho__rho_0.1_pthin_0.0.txt', '/home/whitjand/Research/BHO/n=1500/wa_bho__rho_5_pthin_0.0.txt', '/home/whitjand/Research/BHO/n=1500/wa_bho__rho_0.9_pthin_0.30.txt', '/home/whitjand/Research/BHO/n=1500/wa_bho__rho_50_pthin_0.60.txt', '/home/whitjand/Research/BHO/n=1500/wa_bho__rho_10_pthin_0.10.txt', '/home/whitjand/Research/BHO/n=1500/wa_bho__rho_1.1_pthin_0.10.txt', '/home/whitjand/Research/BHO/n=1500/wa_bho__rho_1_pthin_0.20.txt', '/home/whitjand/Research/BHO/n=1500/wa_bho__rho_0.1_pthin_0.50.txt', '/home/whitjand/Research/BHO/n=1500/wa_bho__rho_50_pthin_1.00.txt', '/home/whitjand/Research/BHO/n=1500/wa_bho__rho_2_pthin_0.50.txt', '/home/whitjand/Research/BHO/n=1500/wa_bho__rho_0.9_pthin_0.94.txt', '/home/whitjand/Research/BHO/n=1500/wa_bho__rho_5_pthin_0.10.txt', '/home/whitjand/Research/BHO/n=1500/wa_bho__rho_2_pthin_0.90.txt', '/home/whitjand/Research/BHO/n=1500/wa_bho__rho_1.1_pthin_0.0.txt', '/home/whitjand/Research/BHO/n=1500/wa_bho__rho_0.1_pthin_0.90.txt', '/home/whitjand/Research/BHO/n=1500/wa_bho__rho_25_pthin_0.10.txt', '/home/whitjand/Research/BHO/n=1500/wa_bho__rho_2_pthin_0.99.txt', '/home/whitjand/Research/BHO/n=1500/wa_bho__rho_1_pthin_0.92.txt', '/home/whitjand/Research/BHO/n=1500/wa_bho__rho_0.1_pthin_0.995.txt', '/home/whitjand/Research/BHO/n=1500/wa_bho__rho_0.1_pthin_0.99.txt', '/home/whitjand/Research/BHO/n=1500/wa_bho__rho_1.1_pthin_0.90.txt', '/home/whitjand/Research/BHO/n=1500/wa_bho__rho_25_pthin_0.50.txt', '/home/whitjand/Research/BHO/n=1500/wa_bho__rho_50_pthin_0.92.txt', '/home/whitjand/Research/BHO/n=1500/wa_bho__rho_10_pthin_0.99.txt', '/home/whitjand/Research/BHO/n=1500/wa_bho__rho_5_pthin_0.90.txt', '/home/whitjand/Research/BHO/n=1500/wa_bho__rho_1.1_pthin_0.99.txt', '/home/whitjand/Research/BHO/n=1500/wa_bho__rho_5_pthin_0.99.txt', '/home/whitjand/Research/BHO/n=1500/wa_bho__rho_10_pthin_0.90.txt', '/home/whitjand/Research/BHO/n=1500/wa_bho__rho_2_pthin_0.80.txt', '/home/whitjand/Research/BHO/n=1500/wa_bho__rho_0.1_pthin_0.80.txt', '/home/whitjand/Research/BHO/n=1500/wa_bho__rho_0.9_pthin_0.92.txt', '/home/whitjand/Research/BHO/n=1500/wa_bho__rho_1.1_pthin_0.80.txt', '/home/whitjand/Research/BHO/n=1500/wa_bho__rho_25_pthin_0.40.txt', '/home/whitjand/Research/BHO/n=1500/wa_bho__rho_0.9_pthin_0.0.txt', '/home/whitjand/Research/BHO/n=1500/wa_bho__rho_25_pthin_0.96.txt', '/home/whitjand/Research/BHO/n=1500/wa_bho__rho_5_pthin_0.80.txt', '/home/whitjand/Research/BHO/n=1500/wa_bho__rho_25_pthin_0.98.txt', '/home/whitjand/Research/BHO/n=1500/wa_bho__rho_10_pthin_0.995.txt', '/home/whitjand/Research/BHO/n=1500/wa_bho__rho_10_pthin_0.80.txt', '/home/whitjand/Research/BHO/n=1500/wa_bho__rho_0.9_pthin_0.60.txt', '/home/whitjand/Research/BHO/n=1500/wa_bho__rho_1.1_pthin_0.995.txt', '/home/whitjand/Research/BHO/n=1500/wa_bho__rho_5_pthin_0.98.txt', '/home/whitjand/Research/BHO/n=1500/wa_bho__rho_10_pthin_0.40.txt', '/home/whitjand/Research/BHO/n=1500/wa_bho__rho_50_pthin_0.30.txt', '/home/whitjand/Research/BHO/n=1500/wa_bho__rho_10_pthin_0.96.txt', '/home/whitjand/Research/BHO/n=1500/wa_bho__rho_1.1_pthin_0.98.txt', '/home/whitjand/Research/BHO/n=1500/wa_bho__rho_10_pthin_0.98.txt', '/home/whitjand/Research/BHO/n=1500/wa_bho__rho_1.1_pthin_0.96.txt', '/home/whitjand/Research/BHO/n=1500/wa_bho__rho_5_pthin_0.40.txt', '/home/whitjand/Research/BHO/n=1500/wa_bho__rho_50_pthin_0.94.txt', '/home/whitjand/Research/BHO/n=1500/wa_bho__rho_5_pthin_0.96.txt', '/home/whitjand/Research/BHO/n=1500/wa_bho__rho_0.9_pthin_1.00.txt', '/home/whitjand/Research/BHO/n=1500/wa_bho__rho_25_pthin_0.80.txt', '/home/whitjand/Research/BHO/n=1500/wa_bho__rho_1.1_pthin_0.40.txt', '/home/whitjand/Research/BHO/n=1500/wa_bho__rho_1_pthin_0.70.txt', '/home/whitjand/Research/BHO/n=1500/wa_bho__rho_1_pthin_0.94.txt', '/home/whitjand/Research/BHO/n=1500/wa_bho__rho_0.1_pthin_0.98.txt', '/home/whitjand/Research/BHO/n=1500/wa_bho__rho_0.9_pthin_0.20.txt', '/home/whitjand/Research/BHO/n=1500/wa_bho__rho_2_pthin_0.0.txt', '/home/whitjand/Research/BHO/n=1500/wa_bho__rho_10_pthin_0.0.txt', '/home/whitjand/Research/BHO/n=1500/wa_bho__rho_2_pthin_0.98.txt', '/home/whitjand/Research/BHO/n=1500/wa_bho__rho_50_pthin_0.70.txt', '/home/whitjand/Research/BHO/n=1500/wa_bho__rho_0.1_pthin_0.40.txt', '/home/whitjand/Research/BHO/n=1500/wa_bho__rho_5_pthin_0.995.txt', '/home/whitjand/Research/BHO/n=1500/wa_bho__rho_1_pthin_0.30.txt', '/home/whitjand/Research/BHO/n=1500/wa_bho__rho_2_pthin_0.96.txt', '/home/whitjand/Research/BHO/n=1500/wa_bho__rho_2_pthin_0.40.txt', '/home/whitjand/Research/BHO/n=1500/wa_bho__rho_0.1_pthin_0.96.txt']\n",
      "\n",
      " 153\n"
     ]
    }
   ],
   "source": [
    "### SET FOLDER HERE\n",
    "folder_path = '/home/whitjand/Research/BHO/test'\n",
    "\n",
    "# Get a list of all files in the folder\n",
    "file_list = [os.path.join(folder_path, f) for f in os.listdir(folder_path) if os.path.isfile(os.path.join(folder_path, f))]\n",
    "\n",
    "print(file_list)\n",
    "print('\\n',len(file_list))\n",
    "assert len(file_list)==153 or len(file_list)==5"
   ]
  },
  {
   "cell_type": "code",
   "execution_count": 35,
   "metadata": {},
   "outputs": [],
   "source": [
    "output_file = folder_path+'/params.txt'\n",
    "\n",
    "for file_path in file_list:\n",
    "    text = get_text(file_path)\n",
    "    params = reformat(text)\n",
    "\n",
    "    with open(output_file, 'a') as file:\n",
    "        file.write(params + '\\n\\n')"
   ]
  },
  {
   "cell_type": "code",
   "execution_count": 36,
   "metadata": {},
   "outputs": [],
   "source": [
    "output_file2 = folder_path+'/to_pickle.txt'\n",
    "\n",
    "with open(output_file2, 'a') as file:\n",
    "    file.write('my_pickles = dict()' + '\\n\\n')\n",
    "\n",
    "for file_path in file_list:\n",
    "    text = get_text(file_path)\n",
    "    params = reformat(text, pickle=True)\n",
    "\n",
    "    with open(output_file2, 'a') as file:\n",
    "        file.write(params + '\\n\\n')"
   ]
  },
  {
   "cell_type": "code",
   "execution_count": null,
   "metadata": {},
   "outputs": [],
   "source": []
  }
 ],
 "metadata": {
  "kernelspec": {
   "display_name": "rescomp",
   "language": "python",
   "name": "python3"
  },
  "language_info": {
   "codemirror_mode": {
    "name": "ipython",
    "version": 3
   },
   "file_extension": ".py",
   "mimetype": "text/x-python",
   "name": "python",
   "nbconvert_exporter": "python",
   "pygments_lexer": "ipython3",
   "version": "3.10.12"
  }
 },
 "nbformat": 4,
 "nbformat_minor": 2
}
